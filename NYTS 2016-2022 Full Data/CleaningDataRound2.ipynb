{
 "cells": [
  {
   "cell_type": "code",
   "execution_count": 12,
   "metadata": {},
   "outputs": [],
   "source": [
    "import matplotlib.pyplot as plt\n",
    "import numpy as np\n",
    "import pandas as pd\n",
    "import plotly.express as px\n",
    "import seaborn as sns\n",
    "import plotly.graph_objects as go\n",
    "import operator as op\n",
    "\n",
    "df = pd.read_csv(\"EDITEDNYTS16_22_Numbers.csv\")\n",
    "\n",
    "df.loc[df['E_Cig_Ever_Used'] == 2, 'E_Cig_Days_Used'] = 100\n",
    "df.loc[df['E_Cig_Ever_Used'] == 2, 'E_Cig_Last_Used'] = 100\n",
    "df.loc[df['E_Cig_Ever_Used'] == 2, 'Attempt_Quitting_Tobacco'] = 96\n",
    "\n",
    "df.loc[df['E_Cig_Ever_Used'] == 1, 'E_Cig_Try_Next_Year'] = 99\n",
    "df.loc[df['E_Cig_Ever_Used'] == 1, 'E_Cig_Curiousity'] = 99\n",
    "df.loc[df['E_Cig_Ever_Used'] == 1, 'E_Cig_Try'] = 99\n",
    "\n",
    "df.loc[df['Cigarette_Ever_Used'] == 2, 'Cigarette_Days_Used'] = 98\n",
    "df.loc[df['Cigarette_Ever_Used'] == 2, 'Cigarette_Last_Used'] = 98\n",
    "df.loc[df['Cigarette_Ever_Used'] == 2, 'Attempt_Quitting_Tobacco'] = 95\n",
    "\n",
    "df.loc[df['Cigarette_Ever_Used'] == 1, 'Cigarette_Try_Next_Year'] = 97\n",
    "df.loc[df['Cigarette_Ever_Used'] == 1, 'Cigarette_Curiosity'] = 97\n",
    "df.loc[df['Cigarette_Ever_Used'] == 1, 'Cigarette_Try'] = 97\n",
    "\n",
    "df = df.dropna(thresh=len(df.columns) - 8)\n",
    "\n",
    "df.to_csv('NYTS16_22_NaN.csv', index=False)"
   ]
  }
 ],
 "metadata": {
  "kernelspec": {
   "display_name": "base",
   "language": "python",
   "name": "python3"
  },
  "language_info": {
   "codemirror_mode": {
    "name": "ipython",
    "version": 3
   },
   "file_extension": ".py",
   "mimetype": "text/x-python",
   "name": "python",
   "nbconvert_exporter": "python",
   "pygments_lexer": "ipython3",
   "version": "3.10.9"
  }
 },
 "nbformat": 4,
 "nbformat_minor": 2
}
