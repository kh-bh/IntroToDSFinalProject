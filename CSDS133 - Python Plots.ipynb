{
 "cells": [
  {
   "cell_type": "code",
   "execution_count": 2,
   "metadata": {},
   "outputs": [],
   "source": [
    "import matplotlib.pyplot as plt\n",
    "import numpy as np\n",
    "import pandas as pd"
   ]
  },
  {
   "cell_type": "code",
   "execution_count": 3,
   "metadata": {},
   "outputs": [],
   "source": [
    "YTSHighdf = pd.read_csv(\"YTS Data\\YTSCessationData.csv\")\n",
    "YTSMiddledf = pd.read_csv(\"YTS Data\\YTSMiddleData.csv\")\n",
    "YTSSmokelessTobaccodf = pd.read_csv(\"YTS Data\\YTSSmokelessTobaccoData.csv\")\n",
    "YTSCigaretteUsedf = pd.read_csv(\"YTS Data\\YTSCigaretteUseData.csv\")\n",
    "YTSCessationdf = pd.read_csv(\"YTS Data\\YTSCessationData.csv\")"
   ]
  },
  {
   "cell_type": "code",
   "execution_count": null,
   "metadata": {},
   "outputs": [],
   "source": []
  }
 ],
 "metadata": {
  "kernelspec": {
   "display_name": "base",
   "language": "python",
   "name": "python3"
  },
  "language_info": {
   "codemirror_mode": {
    "name": "ipython",
    "version": 3
   },
   "file_extension": ".py",
   "mimetype": "text/x-python",
   "name": "python",
   "nbconvert_exporter": "python",
   "pygments_lexer": "ipython3",
   "version": "3.10.9"
  }
 },
 "nbformat": 4,
 "nbformat_minor": 2
}
