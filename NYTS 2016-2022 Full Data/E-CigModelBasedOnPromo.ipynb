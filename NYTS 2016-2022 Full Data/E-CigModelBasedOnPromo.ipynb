{
 "cells": [
  {
   "cell_type": "code",
   "execution_count": 27,
   "metadata": {},
   "outputs": [],
   "source": [
    "#Import required libraries\n",
    "import pandas as pd\n",
    "import numpy as np\n",
    "import matplotlib.pyplot as plt\n",
    " \n",
    "from sklearn.preprocessing import LabelEncoder\n",
    "from sklearn.model_selection import train_test_split\n",
    "from sklearn.model_selection import cross_val_score\n",
    "from sklearn.model_selection import GridSearchCV\n",
    "from sklearn.preprocessing import StandardScaler\n",
    "from sklearn.linear_model import LogisticRegression\n",
    "from sklearn.neighbors import KNeighborsClassifier\n",
    "from sklearn.svm import SVC\n",
    "from sklearn.tree import DecisionTreeClassifier\n",
    "from sklearn.ensemble import RandomForestClassifier\n",
    "from sklearn.naive_bayes import GaussianNB\n",
    "from sklearn.metrics import accuracy_score\n",
    " "
   ]
  },
  {
   "cell_type": "code",
   "execution_count": 28,
   "metadata": {},
   "outputs": [
    {
     "name": "stdout",
     "output_type": "stream",
     "text": [
      "   Unnamed: 0  Year  Gender  Grade_of_Student  E_Cig_Ever_Used  \\\n",
      "0           0  2022     2.0               2.0              2.0   \n",
      "1           1  2022     2.0               2.0              2.0   \n",
      "2           2  2022     1.0               2.0              2.0   \n",
      "3           3  2022     1.0               2.0              2.0   \n",
      "4           4  2022     1.0               2.0              1.0   \n",
      "\n",
      "   E_Cig_Days_Used  E_Cig_Last_Used  E_Cig_Curiousity  E_Cig_Try  \\\n",
      "0             -1.0             -1.0               4.0        4.0   \n",
      "1             -1.0             -1.0               3.0        2.0   \n",
      "2             -1.0             -1.0               4.0        4.0   \n",
      "3             -1.0             -1.0               3.0        3.0   \n",
      "4             30.0              2.0              99.0       99.0   \n",
      "\n",
      "   E_Cig_Try_Next_Year  ...  Cigarette_Curiosity  Cigarette_Try  \\\n",
      "0                  4.0  ...                  4.0            4.0   \n",
      "1                  3.0  ...                  4.0            4.0   \n",
      "2                  4.0  ...                  4.0            4.0   \n",
      "3                  3.0  ...                 97.0           97.0   \n",
      "4                 99.0  ...                 97.0           97.0   \n",
      "\n",
      "   Cigarette_Try_Next_Year  The_Real_Cost  Any_Tobacco_Craving  \\\n",
      "0                      4.0            3.0                  NaN   \n",
      "1                      4.0            1.0                  NaN   \n",
      "2                      4.0            2.0                  NaN   \n",
      "3                     97.0            2.0                  NaN   \n",
      "4                     97.0            NaN                  NaN   \n",
      "\n",
      "   Attempt_Quitting_Tobacco  Are_Tobacco_Products_Harmful  \\\n",
      "0                       6.0                           2.0   \n",
      "1                       6.0                           2.0   \n",
      "2                       6.0                           4.0   \n",
      "3                       6.0                           2.0   \n",
      "4                       NaN                           NaN   \n",
      "\n",
      "   E_Cig_Promotions_Internet  Tobacco_Promotions_Internet  Cigarette_Last_Used  \n",
      "0                        3.0                          3.0                 -2.0  \n",
      "1                        5.0                          5.0                 -2.0  \n",
      "2                        2.0                          2.0                 -2.0  \n",
      "3                        3.0                          3.0                  NaN  \n",
      "4                        NaN                          NaN                  NaN  \n",
      "\n",
      "[5 rows x 22 columns]\n"
     ]
    }
   ],
   "source": [
    "#Read the dataset\n",
    "data=pd.read_csv('NYTS16_22_NaN.csv')\n",
    " \n",
    "#Display the first five rows\n",
    "print(data.head())"
   ]
  },
  {
   "cell_type": "code",
   "execution_count": 29,
   "metadata": {},
   "outputs": [
    {
     "data": {
      "text/html": [
       "<div>\n",
       "<style scoped>\n",
       "    .dataframe tbody tr th:only-of-type {\n",
       "        vertical-align: middle;\n",
       "    }\n",
       "\n",
       "    .dataframe tbody tr th {\n",
       "        vertical-align: top;\n",
       "    }\n",
       "\n",
       "    .dataframe thead th {\n",
       "        text-align: right;\n",
       "    }\n",
       "</style>\n",
       "<table border=\"1\" class=\"dataframe\">\n",
       "  <thead>\n",
       "    <tr style=\"text-align: right;\">\n",
       "      <th></th>\n",
       "      <th>Unnamed: 0</th>\n",
       "      <th>Year</th>\n",
       "      <th>Gender</th>\n",
       "      <th>Grade_of_Student</th>\n",
       "      <th>E_Cig_Days_Used</th>\n",
       "      <th>E_Cig_Last_Used</th>\n",
       "      <th>E_Cig_Curiousity</th>\n",
       "      <th>E_Cig_Try</th>\n",
       "      <th>E_Cig_Try_Next_Year</th>\n",
       "      <th>Cigarette_Ever_Used</th>\n",
       "      <th>...</th>\n",
       "      <th>Cigarette_Curiosity</th>\n",
       "      <th>Cigarette_Try</th>\n",
       "      <th>Cigarette_Try_Next_Year</th>\n",
       "      <th>The_Real_Cost</th>\n",
       "      <th>Any_Tobacco_Craving</th>\n",
       "      <th>Attempt_Quitting_Tobacco</th>\n",
       "      <th>Are_Tobacco_Products_Harmful</th>\n",
       "      <th>E_Cig_Promotions_Internet</th>\n",
       "      <th>Tobacco_Promotions_Internet</th>\n",
       "      <th>Cigarette_Last_Used</th>\n",
       "    </tr>\n",
       "    <tr>\n",
       "      <th>E_Cig_Ever_Used</th>\n",
       "      <th></th>\n",
       "      <th></th>\n",
       "      <th></th>\n",
       "      <th></th>\n",
       "      <th></th>\n",
       "      <th></th>\n",
       "      <th></th>\n",
       "      <th></th>\n",
       "      <th></th>\n",
       "      <th></th>\n",
       "      <th></th>\n",
       "      <th></th>\n",
       "      <th></th>\n",
       "      <th></th>\n",
       "      <th></th>\n",
       "      <th></th>\n",
       "      <th></th>\n",
       "      <th></th>\n",
       "      <th></th>\n",
       "      <th></th>\n",
       "      <th></th>\n",
       "    </tr>\n",
       "  </thead>\n",
       "  <tbody>\n",
       "    <tr>\n",
       "      <th>1.0</th>\n",
       "      <td>26382</td>\n",
       "      <td>26382</td>\n",
       "      <td>26215</td>\n",
       "      <td>26316</td>\n",
       "      <td>26122</td>\n",
       "      <td>25982</td>\n",
       "      <td>26382</td>\n",
       "      <td>26382</td>\n",
       "      <td>26382</td>\n",
       "      <td>26315</td>\n",
       "      <td>...</td>\n",
       "      <td>26317</td>\n",
       "      <td>26294</td>\n",
       "      <td>24359</td>\n",
       "      <td>21056</td>\n",
       "      <td>19203</td>\n",
       "      <td>20079</td>\n",
       "      <td>20716</td>\n",
       "      <td>24892</td>\n",
       "      <td>20430</td>\n",
       "      <td>23141</td>\n",
       "    </tr>\n",
       "    <tr>\n",
       "      <th>2.0</th>\n",
       "      <td>94515</td>\n",
       "      <td>94515</td>\n",
       "      <td>93963</td>\n",
       "      <td>94263</td>\n",
       "      <td>94515</td>\n",
       "      <td>94515</td>\n",
       "      <td>93993</td>\n",
       "      <td>94135</td>\n",
       "      <td>94069</td>\n",
       "      <td>94288</td>\n",
       "      <td>...</td>\n",
       "      <td>94155</td>\n",
       "      <td>94092</td>\n",
       "      <td>79472</td>\n",
       "      <td>76638</td>\n",
       "      <td>45288</td>\n",
       "      <td>94515</td>\n",
       "      <td>75588</td>\n",
       "      <td>90579</td>\n",
       "      <td>74708</td>\n",
       "      <td>93304</td>\n",
       "    </tr>\n",
       "  </tbody>\n",
       "</table>\n",
       "<p>2 rows × 21 columns</p>\n",
       "</div>"
      ],
      "text/plain": [
       "                 Unnamed: 0   Year  Gender  Grade_of_Student  E_Cig_Days_Used  \\\n",
       "E_Cig_Ever_Used                                                                 \n",
       "1.0                   26382  26382   26215             26316            26122   \n",
       "2.0                   94515  94515   93963             94263            94515   \n",
       "\n",
       "                 E_Cig_Last_Used  E_Cig_Curiousity  E_Cig_Try  \\\n",
       "E_Cig_Ever_Used                                                 \n",
       "1.0                        25982             26382      26382   \n",
       "2.0                        94515             93993      94135   \n",
       "\n",
       "                 E_Cig_Try_Next_Year  Cigarette_Ever_Used  ...  \\\n",
       "E_Cig_Ever_Used                                            ...   \n",
       "1.0                            26382                26315  ...   \n",
       "2.0                            94069                94288  ...   \n",
       "\n",
       "                 Cigarette_Curiosity  Cigarette_Try  Cigarette_Try_Next_Year  \\\n",
       "E_Cig_Ever_Used                                                                \n",
       "1.0                            26317          26294                    24359   \n",
       "2.0                            94155          94092                    79472   \n",
       "\n",
       "                 The_Real_Cost  Any_Tobacco_Craving  Attempt_Quitting_Tobacco  \\\n",
       "E_Cig_Ever_Used                                                                 \n",
       "1.0                      21056                19203                     20079   \n",
       "2.0                      76638                45288                     94515   \n",
       "\n",
       "                 Are_Tobacco_Products_Harmful  E_Cig_Promotions_Internet  \\\n",
       "E_Cig_Ever_Used                                                            \n",
       "1.0                                     20716                      24892   \n",
       "2.0                                     75588                      90579   \n",
       "\n",
       "                 Tobacco_Promotions_Internet  Cigarette_Last_Used  \n",
       "E_Cig_Ever_Used                                                    \n",
       "1.0                                    20430                23141  \n",
       "2.0                                    74708                93304  \n",
       "\n",
       "[2 rows x 21 columns]"
      ]
     },
     "execution_count": 29,
     "metadata": {},
     "output_type": "execute_result"
    }
   ],
   "source": [
    "data.groupby('E_Cig_Ever_Used').count()"
   ]
  },
  {
   "cell_type": "code",
   "execution_count": 30,
   "metadata": {},
   "outputs": [
    {
     "name": "stdout",
     "output_type": "stream",
     "text": [
      "Unnamed: 0                      0\n",
      "Year                            0\n",
      "Gender                          0\n",
      "Grade_of_Student                0\n",
      "E_Cig_Ever_Used                 0\n",
      "E_Cig_Days_Used                 0\n",
      "E_Cig_Last_Used                 0\n",
      "E_Cig_Curiousity                0\n",
      "E_Cig_Try                       0\n",
      "E_Cig_Try_Next_Year             0\n",
      "Cigarette_Ever_Used             0\n",
      "Cigarette_Days_Used             0\n",
      "Cigarette_Curiosity             0\n",
      "Cigarette_Try                   0\n",
      "The_Real_Cost                   0\n",
      "Are_Tobacco_Products_Harmful    0\n",
      "E_Cig_Promotions_Internet       0\n",
      "Tobacco_Promotions_Internet     0\n",
      "Cigarette_Last_Used             0\n",
      "dtype: int64\n"
     ]
    }
   ],
   "source": [
    "\n",
    "#data = data.drop(subset=['The_Real_Cost'])\n",
    "data = data.drop(labels = ['Attempt_Quitting_Tobacco','Any_Tobacco_Craving','Cigarette_Try_Next_Year'], axis = 1)\n",
    "data = data.dropna(subset = ['Grade_of_Student', 'The_Real_Cost', 'Tobacco_Promotions_Internet'])\n",
    "data = data.dropna()\n",
    "\n",
    "print(data.isnull().sum())"
   ]
  },
  {
   "cell_type": "code",
   "execution_count": 31,
   "metadata": {},
   "outputs": [
    {
     "data": {
      "text/plain": [
       "Unnamed: 0                        int64\n",
       "Year                              int64\n",
       "Gender                          float64\n",
       "Grade_of_Student                float64\n",
       "E_Cig_Ever_Used                 float64\n",
       "E_Cig_Days_Used                 float64\n",
       "E_Cig_Last_Used                 float64\n",
       "E_Cig_Curiousity                float64\n",
       "E_Cig_Try                       float64\n",
       "E_Cig_Try_Next_Year             float64\n",
       "Cigarette_Ever_Used             float64\n",
       "Cigarette_Days_Used             float64\n",
       "Cigarette_Curiosity             float64\n",
       "Cigarette_Try                   float64\n",
       "The_Real_Cost                   float64\n",
       "Are_Tobacco_Products_Harmful    float64\n",
       "E_Cig_Promotions_Internet       float64\n",
       "Tobacco_Promotions_Internet     float64\n",
       "Cigarette_Last_Used             float64\n",
       "dtype: object"
      ]
     },
     "execution_count": 31,
     "metadata": {},
     "output_type": "execute_result"
    }
   ],
   "source": [
    "#Check data types\n",
    "data.dtypes"
   ]
  },
  {
   "cell_type": "code",
   "execution_count": 32,
   "metadata": {},
   "outputs": [
    {
     "data": {
      "text/html": [
       "<div>\n",
       "<style scoped>\n",
       "    .dataframe tbody tr th:only-of-type {\n",
       "        vertical-align: middle;\n",
       "    }\n",
       "\n",
       "    .dataframe tbody tr th {\n",
       "        vertical-align: top;\n",
       "    }\n",
       "\n",
       "    .dataframe thead th {\n",
       "        text-align: right;\n",
       "    }\n",
       "</style>\n",
       "<table border=\"1\" class=\"dataframe\">\n",
       "  <thead>\n",
       "    <tr style=\"text-align: right;\">\n",
       "      <th></th>\n",
       "      <th>Unnamed: 0</th>\n",
       "      <th>Year</th>\n",
       "      <th>Gender</th>\n",
       "      <th>Grade_of_Student</th>\n",
       "      <th>E_Cig_Ever_Used</th>\n",
       "      <th>E_Cig_Days_Used</th>\n",
       "      <th>E_Cig_Last_Used</th>\n",
       "      <th>E_Cig_Curiousity</th>\n",
       "      <th>E_Cig_Try</th>\n",
       "      <th>E_Cig_Try_Next_Year</th>\n",
       "      <th>Cigarette_Ever_Used</th>\n",
       "      <th>Cigarette_Days_Used</th>\n",
       "      <th>Cigarette_Curiosity</th>\n",
       "      <th>Cigarette_Try</th>\n",
       "      <th>The_Real_Cost</th>\n",
       "      <th>Are_Tobacco_Products_Harmful</th>\n",
       "      <th>E_Cig_Promotions_Internet</th>\n",
       "      <th>Tobacco_Promotions_Internet</th>\n",
       "      <th>Cigarette_Last_Used</th>\n",
       "    </tr>\n",
       "  </thead>\n",
       "  <tbody>\n",
       "    <tr>\n",
       "      <th>0</th>\n",
       "      <td>0</td>\n",
       "      <td>2022</td>\n",
       "      <td>1</td>\n",
       "      <td>1</td>\n",
       "      <td>1</td>\n",
       "      <td>0</td>\n",
       "      <td>-1.0</td>\n",
       "      <td>3</td>\n",
       "      <td>3</td>\n",
       "      <td>3</td>\n",
       "      <td>1</td>\n",
       "      <td>0</td>\n",
       "      <td>3</td>\n",
       "      <td>3</td>\n",
       "      <td>2</td>\n",
       "      <td>1</td>\n",
       "      <td>2</td>\n",
       "      <td>2</td>\n",
       "      <td>0</td>\n",
       "    </tr>\n",
       "    <tr>\n",
       "      <th>1</th>\n",
       "      <td>1</td>\n",
       "      <td>2022</td>\n",
       "      <td>1</td>\n",
       "      <td>1</td>\n",
       "      <td>1</td>\n",
       "      <td>0</td>\n",
       "      <td>-1.0</td>\n",
       "      <td>2</td>\n",
       "      <td>1</td>\n",
       "      <td>2</td>\n",
       "      <td>1</td>\n",
       "      <td>0</td>\n",
       "      <td>3</td>\n",
       "      <td>3</td>\n",
       "      <td>0</td>\n",
       "      <td>1</td>\n",
       "      <td>4</td>\n",
       "      <td>4</td>\n",
       "      <td>0</td>\n",
       "    </tr>\n",
       "    <tr>\n",
       "      <th>2</th>\n",
       "      <td>2</td>\n",
       "      <td>2022</td>\n",
       "      <td>0</td>\n",
       "      <td>1</td>\n",
       "      <td>1</td>\n",
       "      <td>0</td>\n",
       "      <td>-1.0</td>\n",
       "      <td>3</td>\n",
       "      <td>3</td>\n",
       "      <td>3</td>\n",
       "      <td>1</td>\n",
       "      <td>0</td>\n",
       "      <td>3</td>\n",
       "      <td>3</td>\n",
       "      <td>1</td>\n",
       "      <td>3</td>\n",
       "      <td>1</td>\n",
       "      <td>1</td>\n",
       "      <td>0</td>\n",
       "    </tr>\n",
       "    <tr>\n",
       "      <th>5</th>\n",
       "      <td>5</td>\n",
       "      <td>2022</td>\n",
       "      <td>0</td>\n",
       "      <td>0</td>\n",
       "      <td>1</td>\n",
       "      <td>0</td>\n",
       "      <td>-1.0</td>\n",
       "      <td>3</td>\n",
       "      <td>3</td>\n",
       "      <td>3</td>\n",
       "      <td>1</td>\n",
       "      <td>0</td>\n",
       "      <td>3</td>\n",
       "      <td>3</td>\n",
       "      <td>1</td>\n",
       "      <td>0</td>\n",
       "      <td>2</td>\n",
       "      <td>1</td>\n",
       "      <td>0</td>\n",
       "    </tr>\n",
       "    <tr>\n",
       "      <th>7</th>\n",
       "      <td>7</td>\n",
       "      <td>2022</td>\n",
       "      <td>0</td>\n",
       "      <td>4</td>\n",
       "      <td>1</td>\n",
       "      <td>0</td>\n",
       "      <td>-1.0</td>\n",
       "      <td>3</td>\n",
       "      <td>3</td>\n",
       "      <td>3</td>\n",
       "      <td>1</td>\n",
       "      <td>0</td>\n",
       "      <td>3</td>\n",
       "      <td>3</td>\n",
       "      <td>2</td>\n",
       "      <td>3</td>\n",
       "      <td>5</td>\n",
       "      <td>5</td>\n",
       "      <td>0</td>\n",
       "    </tr>\n",
       "  </tbody>\n",
       "</table>\n",
       "</div>"
      ],
      "text/plain": [
       "   Unnamed: 0  Year  Gender  Grade_of_Student  E_Cig_Ever_Used  \\\n",
       "0           0  2022       1                 1                1   \n",
       "1           1  2022       1                 1                1   \n",
       "2           2  2022       0                 1                1   \n",
       "5           5  2022       0                 0                1   \n",
       "7           7  2022       0                 4                1   \n",
       "\n",
       "   E_Cig_Days_Used  E_Cig_Last_Used  E_Cig_Curiousity  E_Cig_Try  \\\n",
       "0                0             -1.0                 3          3   \n",
       "1                0             -1.0                 2          1   \n",
       "2                0             -1.0                 3          3   \n",
       "5                0             -1.0                 3          3   \n",
       "7                0             -1.0                 3          3   \n",
       "\n",
       "   E_Cig_Try_Next_Year  Cigarette_Ever_Used  Cigarette_Days_Used  \\\n",
       "0                    3                    1                    0   \n",
       "1                    2                    1                    0   \n",
       "2                    3                    1                    0   \n",
       "5                    3                    1                    0   \n",
       "7                    3                    1                    0   \n",
       "\n",
       "   Cigarette_Curiosity  Cigarette_Try  The_Real_Cost  \\\n",
       "0                    3              3              2   \n",
       "1                    3              3              0   \n",
       "2                    3              3              1   \n",
       "5                    3              3              1   \n",
       "7                    3              3              2   \n",
       "\n",
       "   Are_Tobacco_Products_Harmful  E_Cig_Promotions_Internet  \\\n",
       "0                             1                          2   \n",
       "1                             1                          4   \n",
       "2                             3                          1   \n",
       "5                             0                          2   \n",
       "7                             3                          5   \n",
       "\n",
       "   Tobacco_Promotions_Internet  Cigarette_Last_Used  \n",
       "0                            2                    0  \n",
       "1                            4                    0  \n",
       "2                            1                    0  \n",
       "5                            1                    0  \n",
       "7                            5                    0  "
      ]
     },
     "execution_count": 32,
     "metadata": {},
     "output_type": "execute_result"
    }
   ],
   "source": [
    "def label_encoder(y):\n",
    "    le = LabelEncoder()\n",
    "    data[y] = le.fit_transform(data[y])\n",
    " \n",
    "label_list = [\"Gender\",\"Grade_of_Student\", \"E_Cig_Ever_Used\",\"E_Cig_Days_Used\",\"E_Cig_Curiousity\", \n",
    "              \"E_Cig_Try\",\"E_Cig_Try_Next_Year\",\"Cigarette_Ever_Used\",\"Cigarette_Days_Used\",\"Cigarette_Curiosity\",\n",
    "              \"Cigarette_Try\",\"The_Real_Cost\",\n",
    "              \"Are_Tobacco_Products_Harmful\",\"E_Cig_Promotions_Internet\",\"Tobacco_Promotions_Internet\",\"Cigarette_Last_Used\"]\n",
    " \n",
    "for l in label_list:\n",
    "    label_encoder(l)\n",
    " \n",
    "#Display transformed data\n",
    "data.head()"
   ]
  },
  {
   "cell_type": "code",
   "execution_count": 33,
   "metadata": {},
   "outputs": [
    {
     "name": "stdout",
     "output_type": "stream",
     "text": [
      "X_train shape: (70098, 9)\n",
      "X_test shape: (17525, 9)\n",
      "y_train shape: (70098, 1)\n",
      "y_test shape: (17525, 1)\n"
     ]
    }
   ],
   "source": [
    "#Divide the dataset into independent and dependent variables\n",
    "X = data.drop([\"E_Cig_Ever_Used\", \"E_Cig_Days_Used\",\"E_Cig_Curiousity\", \n",
    "              \"E_Cig_Try\",\"E_Cig_Try_Next_Year\",\"Cigarette_Ever_Used\",\"Cigarette_Days_Used\",\"Cigarette_Curiosity\",\n",
    "              \"Cigarette_Try\",\"Cigarette_Last_Used\"],axis=1)\n",
    "y = data['E_Cig_Ever_Used']\n",
    " \n",
    "#Split the data into training and testing set\n",
    "X_train,X_test,y_train,y_test=train_test_split(X,y,test_size=0.2,\n",
    "                                               random_state=15, shuffle=True) \n",
    " \n",
    "#Data was splitted as 80% train data and 20% test data.\n",
    " \n",
    "y_train = y_train.values.reshape(-1,1)\n",
    "y_test = y_test.values.reshape(-1,1)\n",
    " \n",
    "print(\"X_train shape:\",X_train.shape)\n",
    "print(\"X_test shape:\",X_test.shape)\n",
    "print(\"y_train shape:\",y_train.shape)\n",
    "print(\"y_test shape:\",y_test.shape)"
   ]
  },
  {
   "cell_type": "code",
   "execution_count": 34,
   "metadata": {},
   "outputs": [],
   "source": [
    "#Feature Scaling\n",
    "sc = StandardScaler()\n",
    "X_train = sc.fit_transform(X_train)\n",
    "X_test = sc.fit_transform(X_test)"
   ]
  },
  {
   "cell_type": "code",
   "execution_count": 35,
   "metadata": {},
   "outputs": [],
   "source": [
    "#To store results of models, we create two dictionaries\n",
    "result_dict_train = {}\n",
    "result_dict_test = {}"
   ]
  },
  {
   "cell_type": "code",
   "execution_count": 36,
   "metadata": {},
   "outputs": [
    {
     "name": "stderr",
     "output_type": "stream",
     "text": [
      "c:\\Users\\bhoom\\anaconda3\\lib\\site-packages\\sklearn\\utils\\validation.py:1143: DataConversionWarning:\n",
      "\n",
      "A column-vector y was passed when a 1d array was expected. Please change the shape of y to (n_samples, ), for example using ravel().\n",
      "\n",
      "c:\\Users\\bhoom\\anaconda3\\lib\\site-packages\\sklearn\\utils\\validation.py:1143: DataConversionWarning:\n",
      "\n",
      "A column-vector y was passed when a 1d array was expected. Please change the shape of y to (n_samples, ), for example using ravel().\n",
      "\n",
      "c:\\Users\\bhoom\\anaconda3\\lib\\site-packages\\sklearn\\utils\\validation.py:1143: DataConversionWarning:\n",
      "\n",
      "A column-vector y was passed when a 1d array was expected. Please change the shape of y to (n_samples, ), for example using ravel().\n",
      "\n",
      "c:\\Users\\bhoom\\anaconda3\\lib\\site-packages\\sklearn\\utils\\validation.py:1143: DataConversionWarning:\n",
      "\n",
      "A column-vector y was passed when a 1d array was expected. Please change the shape of y to (n_samples, ), for example using ravel().\n",
      "\n"
     ]
    },
    {
     "name": "stdout",
     "output_type": "stream",
     "text": [
      "Train Score: 1.0\n",
      "Test Score: 1.0\n"
     ]
    },
    {
     "name": "stderr",
     "output_type": "stream",
     "text": [
      "c:\\Users\\bhoom\\anaconda3\\lib\\site-packages\\sklearn\\utils\\validation.py:1143: DataConversionWarning:\n",
      "\n",
      "A column-vector y was passed when a 1d array was expected. Please change the shape of y to (n_samples, ), for example using ravel().\n",
      "\n",
      "c:\\Users\\bhoom\\anaconda3\\lib\\site-packages\\sklearn\\utils\\validation.py:1143: DataConversionWarning:\n",
      "\n",
      "A column-vector y was passed when a 1d array was expected. Please change the shape of y to (n_samples, ), for example using ravel().\n",
      "\n"
     ]
    }
   ],
   "source": [
    "reg = LogisticRegression(random_state = 15)\n",
    "accuracies = cross_val_score(reg, X_train, y_train, cv=5)\n",
    "reg.fit(X_train,y_train)\n",
    "y_pred = reg.predict(X_test)\n",
    " \n",
    "#Obtain accuracy\n",
    "print(\"Train Score:\",np.mean(accuracies))\n",
    "print(\"Test Score:\",reg.score(X_test,y_test))"
   ]
  },
  {
   "cell_type": "code",
   "execution_count": 37,
   "metadata": {},
   "outputs": [],
   "source": [
    "#Store results in the dictionaries\n",
    "result_dict_train[\"Logistic Train Score\"] = np.mean(accuracies)\n",
    "result_dict_test[\"Logistic Test Score\"] = reg.score(X_test,y_test)"
   ]
  },
  {
   "cell_type": "code",
   "execution_count": 38,
   "metadata": {},
   "outputs": [
    {
     "name": "stderr",
     "output_type": "stream",
     "text": [
      "c:\\Users\\bhoom\\anaconda3\\lib\\site-packages\\sklearn\\neighbors\\_classification.py:215: DataConversionWarning:\n",
      "\n",
      "A column-vector y was passed when a 1d array was expected. Please change the shape of y to (n_samples,), for example using ravel().\n",
      "\n",
      "c:\\Users\\bhoom\\anaconda3\\lib\\site-packages\\sklearn\\neighbors\\_classification.py:215: DataConversionWarning:\n",
      "\n",
      "A column-vector y was passed when a 1d array was expected. Please change the shape of y to (n_samples,), for example using ravel().\n",
      "\n",
      "c:\\Users\\bhoom\\anaconda3\\lib\\site-packages\\sklearn\\neighbors\\_classification.py:215: DataConversionWarning:\n",
      "\n",
      "A column-vector y was passed when a 1d array was expected. Please change the shape of y to (n_samples,), for example using ravel().\n",
      "\n",
      "c:\\Users\\bhoom\\anaconda3\\lib\\site-packages\\sklearn\\neighbors\\_classification.py:215: DataConversionWarning:\n",
      "\n",
      "A column-vector y was passed when a 1d array was expected. Please change the shape of y to (n_samples,), for example using ravel().\n",
      "\n",
      "c:\\Users\\bhoom\\anaconda3\\lib\\site-packages\\sklearn\\neighbors\\_classification.py:215: DataConversionWarning:\n",
      "\n",
      "A column-vector y was passed when a 1d array was expected. Please change the shape of y to (n_samples,), for example using ravel().\n",
      "\n",
      "c:\\Users\\bhoom\\anaconda3\\lib\\site-packages\\sklearn\\neighbors\\_classification.py:215: DataConversionWarning:\n",
      "\n",
      "A column-vector y was passed when a 1d array was expected. Please change the shape of y to (n_samples,), for example using ravel().\n",
      "\n"
     ]
    },
    {
     "name": "stdout",
     "output_type": "stream",
     "text": [
      "Train Score: 0.9579018397591449\n",
      "Test Score: 0.9597146932952925\n"
     ]
    }
   ],
   "source": [
    "knn = KNeighborsClassifier()\n",
    "accuracies = cross_val_score(knn, X_train, y_train, cv=5)\n",
    "knn.fit(X_train,y_train)\n",
    "y_pred = knn.predict(X_test)\n",
    " \n",
    "#Obtain accuracy\n",
    "print(\"Train Score:\",np.mean(accuracies))\n",
    "print(\"Test Score:\",knn.score(X_test,y_test))"
   ]
  },
  {
   "cell_type": "code",
   "execution_count": 39,
   "metadata": {},
   "outputs": [],
   "source": [
    "#Store results in the dictionaries\n",
    "result_dict_train[\"KNN Train Score\"] = np.mean(accuracies)\n",
    "result_dict_test[\"KNN Test Score\"] = knn.score(X_test,y_test)"
   ]
  },
  {
   "cell_type": "code",
   "execution_count": 40,
   "metadata": {},
   "outputs": [
    {
     "name": "stderr",
     "output_type": "stream",
     "text": [
      "c:\\Users\\bhoom\\anaconda3\\lib\\site-packages\\sklearn\\utils\\validation.py:1143: DataConversionWarning:\n",
      "\n",
      "A column-vector y was passed when a 1d array was expected. Please change the shape of y to (n_samples, ), for example using ravel().\n",
      "\n",
      "c:\\Users\\bhoom\\anaconda3\\lib\\site-packages\\sklearn\\utils\\validation.py:1143: DataConversionWarning:\n",
      "\n",
      "A column-vector y was passed when a 1d array was expected. Please change the shape of y to (n_samples, ), for example using ravel().\n",
      "\n",
      "c:\\Users\\bhoom\\anaconda3\\lib\\site-packages\\sklearn\\utils\\validation.py:1143: DataConversionWarning:\n",
      "\n",
      "A column-vector y was passed when a 1d array was expected. Please change the shape of y to (n_samples, ), for example using ravel().\n",
      "\n",
      "c:\\Users\\bhoom\\anaconda3\\lib\\site-packages\\sklearn\\utils\\validation.py:1143: DataConversionWarning:\n",
      "\n",
      "A column-vector y was passed when a 1d array was expected. Please change the shape of y to (n_samples, ), for example using ravel().\n",
      "\n",
      "c:\\Users\\bhoom\\anaconda3\\lib\\site-packages\\sklearn\\utils\\validation.py:1143: DataConversionWarning:\n",
      "\n",
      "A column-vector y was passed when a 1d array was expected. Please change the shape of y to (n_samples, ), for example using ravel().\n",
      "\n",
      "c:\\Users\\bhoom\\anaconda3\\lib\\site-packages\\sklearn\\utils\\validation.py:1143: DataConversionWarning:\n",
      "\n",
      "A column-vector y was passed when a 1d array was expected. Please change the shape of y to (n_samples, ), for example using ravel().\n",
      "\n"
     ]
    },
    {
     "name": "stdout",
     "output_type": "stream",
     "text": [
      "Train Score: 0.9999572029767222\n",
      "Test Score: 0.999885877318117\n"
     ]
    }
   ],
   "source": [
    "svc = SVC(random_state = 15)\n",
    "accuracies = cross_val_score(svc, X_train, y_train, cv=5)\n",
    "svc.fit(X_train,y_train)\n",
    "y_pred = svc.predict(X_test)\n",
    " \n",
    "#Obtain accuracy\n",
    "print(\"Train Score:\",np.mean(accuracies))\n",
    "print(\"Test Score:\",svc.score(X_test,y_test))"
   ]
  },
  {
   "cell_type": "code",
   "execution_count": 41,
   "metadata": {},
   "outputs": [],
   "source": [
    "#Store results in the dictionaries\n",
    "result_dict_train[\"SVM Train Score\"] = np.mean(accuracies)\n",
    "result_dict_test[\"SVM Test Score\"] = svc.score(X_test,y_test)"
   ]
  },
  {
   "cell_type": "code",
   "execution_count": 42,
   "metadata": {},
   "outputs": [
    {
     "name": "stdout",
     "output_type": "stream",
     "text": [
      "Train Score: 1.0\n",
      "Test Score: 1.0\n"
     ]
    }
   ],
   "source": [
    "dtc = DecisionTreeClassifier(random_state = 15)\n",
    "accuracies = cross_val_score(dtc, X_train, y_train, cv=5)\n",
    "dtc.fit(X_train,y_train)\n",
    "y_pred = dtc.predict(X_test)\n",
    " \n",
    "#Obtain accuracy\n",
    "print(\"Train Score:\",np.mean(accuracies))\n",
    "print(\"Test Score:\",dtc.score(X_test,y_test))"
   ]
  },
  {
   "cell_type": "code",
   "execution_count": 43,
   "metadata": {},
   "outputs": [],
   "source": [
    "#Store results in the dictionaries\n",
    "result_dict_train[\"Decision Tree Train Score\"] = np.mean(accuracies)\n",
    "result_dict_test[\"Decision Tree Test Score\"] = dtc.score(X_test,y_test)"
   ]
  },
  {
   "cell_type": "code",
   "execution_count": 44,
   "metadata": {},
   "outputs": [
    {
     "name": "stderr",
     "output_type": "stream",
     "text": [
      "c:\\Users\\bhoom\\anaconda3\\lib\\site-packages\\sklearn\\model_selection\\_validation.py:686: DataConversionWarning:\n",
      "\n",
      "A column-vector y was passed when a 1d array was expected. Please change the shape of y to (n_samples,), for example using ravel().\n",
      "\n",
      "c:\\Users\\bhoom\\anaconda3\\lib\\site-packages\\sklearn\\model_selection\\_validation.py:686: DataConversionWarning:\n",
      "\n",
      "A column-vector y was passed when a 1d array was expected. Please change the shape of y to (n_samples,), for example using ravel().\n",
      "\n",
      "c:\\Users\\bhoom\\anaconda3\\lib\\site-packages\\sklearn\\model_selection\\_validation.py:686: DataConversionWarning:\n",
      "\n",
      "A column-vector y was passed when a 1d array was expected. Please change the shape of y to (n_samples,), for example using ravel().\n",
      "\n",
      "c:\\Users\\bhoom\\anaconda3\\lib\\site-packages\\sklearn\\model_selection\\_validation.py:686: DataConversionWarning:\n",
      "\n",
      "A column-vector y was passed when a 1d array was expected. Please change the shape of y to (n_samples,), for example using ravel().\n",
      "\n",
      "c:\\Users\\bhoom\\anaconda3\\lib\\site-packages\\sklearn\\model_selection\\_validation.py:686: DataConversionWarning:\n",
      "\n",
      "A column-vector y was passed when a 1d array was expected. Please change the shape of y to (n_samples,), for example using ravel().\n",
      "\n",
      "C:\\Users\\bhoom\\AppData\\Local\\Temp\\ipykernel_35920\\926848816.py:3: DataConversionWarning:\n",
      "\n",
      "A column-vector y was passed when a 1d array was expected. Please change the shape of y to (n_samples,), for example using ravel().\n",
      "\n"
     ]
    },
    {
     "name": "stdout",
     "output_type": "stream",
     "text": [
      "Train Score: 1.0\n",
      "Test Score: 1.0\n"
     ]
    }
   ],
   "source": [
    "rfc = RandomForestClassifier(random_state = 15)\n",
    "accuracies = cross_val_score(rfc, X_train, y_train, cv=5)\n",
    "rfc.fit(X_train,y_train)\n",
    "y_pred = rfc.predict(X_test)\n",
    " \n",
    "#Obtain accuracy\n",
    "print(\"Train Score:\",np.mean(accuracies))\n",
    "print(\"Test Score:\",rfc.score(X_test,y_test))"
   ]
  },
  {
   "cell_type": "code",
   "execution_count": 45,
   "metadata": {},
   "outputs": [],
   "source": [
    "#Store results in the dictionaries\n",
    "result_dict_train[\"Random Forest Train Score\"] = np.mean(accuracies)\n",
    "result_dict_test[\"Random Forest Test Score\"] = rfc.score(X_test,y_test)"
   ]
  },
  {
   "cell_type": "code",
   "execution_count": 46,
   "metadata": {},
   "outputs": [
    {
     "name": "stdout",
     "output_type": "stream",
     "text": [
      "Train Score: 1.0\n",
      "Test Score: 0.18961483594864478\n"
     ]
    },
    {
     "name": "stderr",
     "output_type": "stream",
     "text": [
      "c:\\Users\\bhoom\\anaconda3\\lib\\site-packages\\sklearn\\utils\\validation.py:1143: DataConversionWarning:\n",
      "\n",
      "A column-vector y was passed when a 1d array was expected. Please change the shape of y to (n_samples, ), for example using ravel().\n",
      "\n",
      "c:\\Users\\bhoom\\anaconda3\\lib\\site-packages\\sklearn\\utils\\validation.py:1143: DataConversionWarning:\n",
      "\n",
      "A column-vector y was passed when a 1d array was expected. Please change the shape of y to (n_samples, ), for example using ravel().\n",
      "\n",
      "c:\\Users\\bhoom\\anaconda3\\lib\\site-packages\\sklearn\\utils\\validation.py:1143: DataConversionWarning:\n",
      "\n",
      "A column-vector y was passed when a 1d array was expected. Please change the shape of y to (n_samples, ), for example using ravel().\n",
      "\n",
      "c:\\Users\\bhoom\\anaconda3\\lib\\site-packages\\sklearn\\utils\\validation.py:1143: DataConversionWarning:\n",
      "\n",
      "A column-vector y was passed when a 1d array was expected. Please change the shape of y to (n_samples, ), for example using ravel().\n",
      "\n",
      "c:\\Users\\bhoom\\anaconda3\\lib\\site-packages\\sklearn\\utils\\validation.py:1143: DataConversionWarning:\n",
      "\n",
      "A column-vector y was passed when a 1d array was expected. Please change the shape of y to (n_samples, ), for example using ravel().\n",
      "\n",
      "c:\\Users\\bhoom\\anaconda3\\lib\\site-packages\\sklearn\\utils\\validation.py:1143: DataConversionWarning:\n",
      "\n",
      "A column-vector y was passed when a 1d array was expected. Please change the shape of y to (n_samples, ), for example using ravel().\n",
      "\n"
     ]
    }
   ],
   "source": [
    "gnb = GaussianNB()\n",
    "accuracies = cross_val_score(gnb, X_train, y_train, cv=5)\n",
    "gnb.fit(X_train,y_train)\n",
    "y_pred = gnb.predict(X_test)\n",
    " \n",
    "#Obtain accuracy\n",
    "print(\"Train Score:\",np.mean(accuracies))\n",
    "print(\"Test Score:\",gnb.score(X_test,y_test))"
   ]
  },
  {
   "cell_type": "code",
   "execution_count": 47,
   "metadata": {},
   "outputs": [],
   "source": [
    "#Store results in the dictionaries\n",
    "result_dict_train[\"Gaussian NB Train Score\"] = np.mean(accuracies)\n",
    "result_dict_test[\"Gaussian NB Test Score\"] = gnb.score(X_test,y_test)"
   ]
  },
  {
   "cell_type": "code",
   "execution_count": 48,
   "metadata": {},
   "outputs": [
    {
     "data": {
      "text/html": [
       "<div>\n",
       "<style scoped>\n",
       "    .dataframe tbody tr th:only-of-type {\n",
       "        vertical-align: middle;\n",
       "    }\n",
       "\n",
       "    .dataframe tbody tr th {\n",
       "        vertical-align: top;\n",
       "    }\n",
       "\n",
       "    .dataframe thead th {\n",
       "        text-align: right;\n",
       "    }\n",
       "</style>\n",
       "<table border=\"1\" class=\"dataframe\">\n",
       "  <thead>\n",
       "    <tr style=\"text-align: right;\">\n",
       "      <th></th>\n",
       "      <th>Score</th>\n",
       "    </tr>\n",
       "  </thead>\n",
       "  <tbody>\n",
       "    <tr>\n",
       "      <th>Logistic Train Score</th>\n",
       "      <td>1.000000</td>\n",
       "    </tr>\n",
       "    <tr>\n",
       "      <th>KNN Train Score</th>\n",
       "      <td>0.957902</td>\n",
       "    </tr>\n",
       "    <tr>\n",
       "      <th>SVM Train Score</th>\n",
       "      <td>0.999957</td>\n",
       "    </tr>\n",
       "    <tr>\n",
       "      <th>Decision Tree Train Score</th>\n",
       "      <td>1.000000</td>\n",
       "    </tr>\n",
       "    <tr>\n",
       "      <th>Random Forest Train Score</th>\n",
       "      <td>1.000000</td>\n",
       "    </tr>\n",
       "    <tr>\n",
       "      <th>Gaussian NB Train Score</th>\n",
       "      <td>1.000000</td>\n",
       "    </tr>\n",
       "  </tbody>\n",
       "</table>\n",
       "</div>"
      ],
      "text/plain": [
       "                              Score\n",
       "Logistic Train Score       1.000000\n",
       "KNN Train Score            0.957902\n",
       "SVM Train Score            0.999957\n",
       "Decision Tree Train Score  1.000000\n",
       "Random Forest Train Score  1.000000\n",
       "Gaussian NB Train Score    1.000000"
      ]
     },
     "execution_count": 48,
     "metadata": {},
     "output_type": "execute_result"
    }
   ],
   "source": [
    "df_result_train = pd.DataFrame.from_dict(result_dict_train,orient = \"index\", columns=[\"Score\"])\n",
    "df_result_train"
   ]
  },
  {
   "cell_type": "code",
   "execution_count": 49,
   "metadata": {},
   "outputs": [
    {
     "data": {
      "text/html": [
       "<div>\n",
       "<style scoped>\n",
       "    .dataframe tbody tr th:only-of-type {\n",
       "        vertical-align: middle;\n",
       "    }\n",
       "\n",
       "    .dataframe tbody tr th {\n",
       "        vertical-align: top;\n",
       "    }\n",
       "\n",
       "    .dataframe thead th {\n",
       "        text-align: right;\n",
       "    }\n",
       "</style>\n",
       "<table border=\"1\" class=\"dataframe\">\n",
       "  <thead>\n",
       "    <tr style=\"text-align: right;\">\n",
       "      <th></th>\n",
       "      <th>Score</th>\n",
       "    </tr>\n",
       "  </thead>\n",
       "  <tbody>\n",
       "    <tr>\n",
       "      <th>Logistic Test Score</th>\n",
       "      <td>1.000000</td>\n",
       "    </tr>\n",
       "    <tr>\n",
       "      <th>KNN Test Score</th>\n",
       "      <td>0.959715</td>\n",
       "    </tr>\n",
       "    <tr>\n",
       "      <th>SVM Test Score</th>\n",
       "      <td>0.999886</td>\n",
       "    </tr>\n",
       "    <tr>\n",
       "      <th>Decision Tree Test Score</th>\n",
       "      <td>1.000000</td>\n",
       "    </tr>\n",
       "    <tr>\n",
       "      <th>Random Forest Test Score</th>\n",
       "      <td>1.000000</td>\n",
       "    </tr>\n",
       "    <tr>\n",
       "      <th>Gaussian NB Test Score</th>\n",
       "      <td>0.189615</td>\n",
       "    </tr>\n",
       "  </tbody>\n",
       "</table>\n",
       "</div>"
      ],
      "text/plain": [
       "                             Score\n",
       "Logistic Test Score       1.000000\n",
       "KNN Test Score            0.959715\n",
       "SVM Test Score            0.999886\n",
       "Decision Tree Test Score  1.000000\n",
       "Random Forest Test Score  1.000000\n",
       "Gaussian NB Test Score    0.189615"
      ]
     },
     "execution_count": 49,
     "metadata": {},
     "output_type": "execute_result"
    }
   ],
   "source": [
    "df_result_test = pd.DataFrame.from_dict(result_dict_test,orient = \"index\",columns=[\"Score\"])\n",
    "df_result_test"
   ]
  },
  {
   "cell_type": "code",
   "execution_count": 50,
   "metadata": {},
   "outputs": [
    {
     "data": {
      "image/png": "[encoded data removed]",
      "text/plain": [
       "<Figure size 2000x500 with 2 Axes>"
      ]
     },
     "metadata": {},
     "output_type": "display_data"
    }
   ],
   "source": [
    "import seaborn as sns\n",
    " \n",
    "fig,ax = plt.subplots(1,2,figsize=(20,5))\n",
    "sns.barplot(x = df_result_train.index,y = df_result_train.Score,ax = ax[0])\n",
    "sns.barplot(x = df_result_test.index,y = df_result_test.Score,ax = ax[1])\n",
    "ax[0].set_xticklabels(df_result_train.index,rotation = 75)\n",
    "ax[1].set_xticklabels(df_result_test.index,rotation = 75)\n",
    "plt.show()"
   ]
  },
  {
   "cell_type": "code",
   "execution_count": 52,
   "metadata": {},
   "outputs": [
    {
     "data": {
      "application/vnd.plotly.v1+json": {
       "config": {
        "plotlyServerURL": "https://plot.ly"
       },
       "data": [
        {
         "marker": {
          "color": "sienna"
         },
         "name": "Train Score",
         "text": [
          "100%",
          "95.79%",
          "99.99%",
          "100%",
          "100%",
          "100%"
         ],
         "textposition": "auto",
         "type": "bar",
         "x": [
          "Logistic Regression",
          "KNN",
          "SVM",
          "Descision Tree",
          "Random Forest",
          "Gaussian NB"
         ],
         "y": [
          1,
          0.9579018397591449,
          0.9999572029767222,
          1,
          1,
          1
         ]
        },
        {
         "marker": {
          "color": "lightyellow"
         },
         "name": "Test Score",
         "text": [
          "100%",
          "95.97%",
          "99.98%",
          "100%",
          "100%",
          "18.96%"
         ],
         "textposition": "auto",
         "type": "bar",
         "x": [
          "Logistic Regression",
          "KNN",
          "SVM",
          "Descision Tree",
          "Random Forest",
          "Gaussian NB"
         ],
         "y": [
          1,
          0.9597146932952925,
          0.999885877318117,
          1,
          1,
          0.18961483594864478
         ]
        }
       ],
       "layout": {
        "barmode": "group",
        "font": {
         "family": "Times New Roman"
        },
        "legend": {
         "title": {
          "font": {
           "color": "green"
          }
         }
        },
        "template": {
         "data": {
          "bar": [
           {
            "error_x": {
             "color": "#2a3f5f"
            },
            "error_y": {
             "color": "#2a3f5f"
            },
            "marker": {
             "line": {
              "color": "#E5ECF6",
              "width": 0.5
             },
             "pattern": {
              "fillmode": "overlay",
              "size": 10,
              "solidity": 0.2
             }
            },
            "type": "bar"
           }
          ],
          "barpolar": [
           {
            "marker": {
             "line": {
              "color": "#E5ECF6",
              "width": 0.5
             },
             "pattern": {
              "fillmode": "overlay",
              "size": 10,
              "solidity": 0.2
             }
            },
            "type": "barpolar"
           }
          ],
          "carpet": [
           {
            "aaxis": {
             "endlinecolor": "#2a3f5f",
             "gridcolor": "white",
             "linecolor": "white",
             "minorgridcolor": "white",
             "startlinecolor": "#2a3f5f"
            },
            "baxis": {
             "endlinecolor": "#2a3f5f",
             "gridcolor": "white",
             "linecolor": "white",
             "minorgridcolor": "white",
             "startlinecolor": "#2a3f5f"
            },
            "type": "carpet"
           }
          ],
          "choropleth": [
           {
            "colorbar": {
             "outlinewidth": 0,
             "ticks": ""
            },
            "type": "choropleth"
           }
          ],
          "contour": [
           {
            "colorbar": {
             "outlinewidth": 0,
             "ticks": ""
            },
            "colorscale": [
             [
              0,
              "#0d0887"
             ],
             [
              0.1111111111111111,
              "#46039f"
             ],
             [
              0.2222222222222222,
              "#7201a8"
             ],
             [
              0.3333333333333333,
              "#9c179e"
             ],
             [
              0.4444444444444444,
              "#bd3786"
             ],
             [
              0.5555555555555556,
              "#d8576b"
             ],
             [
              0.6666666666666666,
              "#ed7953"
             ],
             [
              0.7777777777777778,
              "#fb9f3a"
             ],
             [
              0.8888888888888888,
              "#fdca26"
             ],
             [
              1,
              "#f0f921"
             ]
            ],
            "type": "contour"
           }
          ],
          "contourcarpet": [
           {
            "colorbar": {
             "outlinewidth": 0,
             "ticks": ""
            },
            "type": "contourcarpet"
           }
          ],
          "heatmap": [
           {
            "colorbar": {
             "outlinewidth": 0,
             "ticks": ""
            },
            "colorscale": [
             [
              0,
              "#0d0887"
             ],
             [
              0.1111111111111111,
              "#46039f"
             ],
             [
              0.2222222222222222,
              "#7201a8"
             ],
             [
              0.3333333333333333,
              "#9c179e"
             ],
             [
              0.4444444444444444,
              "#bd3786"
             ],
             [
              0.5555555555555556,
              "#d8576b"
             ],
             [
              0.6666666666666666,
              "#ed7953"
             ],
             [
              0.7777777777777778,
              "#fb9f3a"
             ],
             [
              0.8888888888888888,
              "#fdca26"
             ],
             [
              1,
              "#f0f921"
             ]
            ],
            "type": "heatmap"
           }
          ],
          "heatmapgl": [
           {
            "colorbar": {
             "outlinewidth": 0,
             "ticks": ""
            },
            "colorscale": [
             [
              0,
              "#0d0887"
             ],
             [
              0.1111111111111111,
              "#46039f"
             ],
             [
              0.2222222222222222,
              "#7201a8"
             ],
             [
              0.3333333333333333,
              "#9c179e"
             ],
             [
              0.4444444444444444,
              "#bd3786"
             ],
             [
              0.5555555555555556,
              "#d8576b"
             ],
             [
              0.6666666666666666,
              "#ed7953"
             ],
             [
              0.7777777777777778,
              "#fb9f3a"
             ],
             [
              0.8888888888888888,
              "#fdca26"
             ],
             [
              1,
              "#f0f921"
             ]
            ],
            "type": "heatmapgl"
           }
          ],
          "histogram": [
           {
            "marker": {
             "pattern": {
              "fillmode": "overlay",
              "size": 10,
              "solidity": 0.2
             }
            },
            "type": "histogram"
           }
          ],
          "histogram2d": [
           {
            "colorbar": {
             "outlinewidth": 0,
             "ticks": ""
            },
            "colorscale": [
             [
              0,
              "#0d0887"
             ],
             [
              0.1111111111111111,
              "#46039f"
             ],
             [
              0.2222222222222222,
              "#7201a8"
             ],
             [
              0.3333333333333333,
              "#9c179e"
             ],
             [
              0.4444444444444444,
              "#bd3786"
             ],
             [
              0.5555555555555556,
              "#d8576b"
             ],
             [
              0.6666666666666666,
              "#ed7953"
             ],
             [
              0.7777777777777778,
              "#fb9f3a"
             ],
             [
              0.8888888888888888,
              "#fdca26"
             ],
             [
              1,
              "#f0f921"
             ]
            ],
            "type": "histogram2d"
           }
          ],
          "histogram2dcontour": [
           {
            "colorbar": {
             "outlinewidth": 0,
             "ticks": ""
            },
            "colorscale": [
             [
              0,
              "#0d0887"
             ],
             [
              0.1111111111111111,
              "#46039f"
             ],
             [
              0.2222222222222222,
              "#7201a8"
             ],
             [
              0.3333333333333333,
              "#9c179e"
             ],
             [
              0.4444444444444444,
              "#bd3786"
             ],
             [
              0.5555555555555556,
              "#d8576b"
             ],
             [
              0.6666666666666666,
              "#ed7953"
             ],
             [
              0.7777777777777778,
              "#fb9f3a"
             ],
             [
              0.8888888888888888,
              "#fdca26"
             ],
             [
              1,
              "#f0f921"
             ]
            ],
            "type": "histogram2dcontour"
           }
          ],
          "mesh3d": [
           {
            "colorbar": {
             "outlinewidth": 0,
             "ticks": ""
            },
            "type": "mesh3d"
           }
          ],
          "parcoords": [
           {
            "line": {
             "colorbar": {
              "outlinewidth": 0,
              "ticks": ""
             }
            },
            "type": "parcoords"
           }
          ],
          "pie": [
           {
            "automargin": true,
            "type": "pie"
           }
          ],
          "scatter": [
           {
            "fillpattern": {
             "fillmode": "overlay",
             "size": 10,
             "solidity": 0.2
            },
            "type": "scatter"
           }
          ],
          "scatter3d": [
           {
            "line": {
             "colorbar": {
              "outlinewidth": 0,
              "ticks": ""
             }
            },
            "marker": {
             "colorbar": {
              "outlinewidth": 0,
              "ticks": ""
             }
            },
            "type": "scatter3d"
           }
          ],
          "scattercarpet": [
           {
            "marker": {
             "colorbar": {
              "outlinewidth": 0,
              "ticks": ""
             }
            },
            "type": "scattercarpet"
           }
          ],
          "scattergeo": [
           {
            "marker": {
             "colorbar": {
              "outlinewidth": 0,
              "ticks": ""
             }
            },
            "type": "scattergeo"
           }
          ],
          "scattergl": [
           {
            "marker": {
             "colorbar": {
              "outlinewidth": 0,
              "ticks": ""
             }
            },
            "type": "scattergl"
           }
          ],
          "scattermapbox": [
           {
            "marker": {
             "colorbar": {
              "outlinewidth": 0,
              "ticks": ""
             }
            },
            "type": "scattermapbox"
           }
          ],
          "scatterpolar": [
           {
            "marker": {
             "colorbar": {
              "outlinewidth": 0,
              "ticks": ""
             }
            },
            "type": "scatterpolar"
           }
          ],
          "scatterpolargl": [
           {
            "marker": {
             "colorbar": {
              "outlinewidth": 0,
              "ticks": ""
             }
            },
            "type": "scatterpolargl"
           }
          ],
          "scatterternary": [
           {
            "marker": {
             "colorbar": {
              "outlinewidth": 0,
              "ticks": ""
             }
            },
            "type": "scatterternary"
           }
          ],
          "surface": [
           {
            "colorbar": {
             "outlinewidth": 0,
             "ticks": ""
            },
            "colorscale": [
             [
              0,
              "#0d0887"
             ],
             [
              0.1111111111111111,
              "#46039f"
             ],
             [
              0.2222222222222222,
              "#7201a8"
             ],
             [
              0.3333333333333333,
              "#9c179e"
             ],
             [
              0.4444444444444444,
              "#bd3786"
             ],
             [
              0.5555555555555556,
              "#d8576b"
             ],
             [
              0.6666666666666666,
              "#ed7953"
             ],
             [
              0.7777777777777778,
              "#fb9f3a"
             ],
             [
              0.8888888888888888,
              "#fdca26"
             ],
             [
              1,
              "#f0f921"
             ]
            ],
            "type": "surface"
           }
          ],
          "table": [
           {
            "cells": {
             "fill": {
              "color": "#EBF0F8"
             },
             "line": {
              "color": "white"
             }
            },
            "header": {
             "fill": {
              "color": "#C8D4E3"
             },
             "line": {
              "color": "white"
             }
            },
            "type": "table"
           }
          ]
         },
         "layout": {
          "annotationdefaults": {
           "arrowcolor": "#2a3f5f",
           "arrowhead": 0,
           "arrowwidth": 1
          },
          "autotypenumbers": "strict",
          "coloraxis": {
           "colorbar": {
            "outlinewidth": 0,
            "ticks": ""
           }
          },
          "colorscale": {
           "diverging": [
            [
             0,
             "#8e0152"
            ],
            [
             0.1,
             "#c51b7d"
            ],
            [
             0.2,
             "#de77ae"
            ],
            [
             0.3,
             "#f1b6da"
            ],
            [
             0.4,
             "#fde0ef"
            ],
            [
             0.5,
             "#f7f7f7"
            ],
            [
             0.6,
             "#e6f5d0"
            ],
            [
             0.7,
             "#b8e186"
            ],
            [
             0.8,
             "#7fbc41"
            ],
            [
             0.9,
             "#4d9221"
            ],
            [
             1,
             "#276419"
            ]
           ],
           "sequential": [
            [
             0,
             "#0d0887"
            ],
            [
             0.1111111111111111,
             "#46039f"
            ],
            [
             0.2222222222222222,
             "#7201a8"
            ],
            [
             0.3333333333333333,
             "#9c179e"
            ],
            [
             0.4444444444444444,
             "#bd3786"
            ],
            [
             0.5555555555555556,
             "#d8576b"
            ],
            [
             0.6666666666666666,
             "#ed7953"
            ],
            [
             0.7777777777777778,
             "#fb9f3a"
            ],
            [
             0.8888888888888888,
             "#fdca26"
            ],
            [
             1,
             "#f0f921"
            ]
           ],
           "sequentialminus": [
            [
             0,
             "#0d0887"
            ],
            [
             0.1111111111111111,
             "#46039f"
            ],
            [
             0.2222222222222222,
             "#7201a8"
            ],
            [
             0.3333333333333333,
             "#9c179e"
            ],
            [
             0.4444444444444444,
             "#bd3786"
            ],
            [
             0.5555555555555556,
             "#d8576b"
            ],
            [
             0.6666666666666666,
             "#ed7953"
            ],
            [
             0.7777777777777778,
             "#fb9f3a"
            ],
            [
             0.8888888888888888,
             "#fdca26"
            ],
            [
             1,
             "#f0f921"
            ]
           ]
          },
          "colorway": [
           "#636efa",
           "#EF553B",
           "#00cc96",
           "#ab63fa",
           "#FFA15A",
           "#19d3f3",
           "#FF6692",
           "#B6E880",
           "#FF97FF",
           "#FECB52"
          ],
          "font": {
           "color": "#2a3f5f"
          },
          "geo": {
           "bgcolor": "white",
           "lakecolor": "white",
           "landcolor": "#E5ECF6",
           "showlakes": true,
           "showland": true,
           "subunitcolor": "white"
          },
          "hoverlabel": {
           "align": "left"
          },
          "hovermode": "closest",
          "mapbox": {
           "style": "light"
          },
          "paper_bgcolor": "white",
          "plot_bgcolor": "#E5ECF6",
          "polar": {
           "angularaxis": {
            "gridcolor": "white",
            "linecolor": "white",
            "ticks": ""
           },
           "bgcolor": "#E5ECF6",
           "radialaxis": {
            "gridcolor": "white",
            "linecolor": "white",
            "ticks": ""
           }
          },
          "scene": {
           "xaxis": {
            "backgroundcolor": "#E5ECF6",
            "gridcolor": "white",
            "gridwidth": 2,
            "linecolor": "white",
            "showbackground": true,
            "ticks": "",
            "zerolinecolor": "white"
           },
           "yaxis": {
            "backgroundcolor": "#E5ECF6",
            "gridcolor": "white",
            "gridwidth": 2,
            "linecolor": "white",
            "showbackground": true,
            "ticks": "",
            "zerolinecolor": "white"
           },
           "zaxis": {
            "backgroundcolor": "#E5ECF6",
            "gridcolor": "white",
            "gridwidth": 2,
            "linecolor": "white",
            "showbackground": true,
            "ticks": "",
            "zerolinecolor": "white"
           }
          },
          "shapedefaults": {
           "line": {
            "color": "#2a3f5f"
           }
          },
          "ternary": {
           "aaxis": {
            "gridcolor": "white",
            "linecolor": "white",
            "ticks": ""
           },
           "baxis": {
            "gridcolor": "white",
            "linecolor": "white",
            "ticks": ""
           },
           "bgcolor": "#E5ECF6",
           "caxis": {
            "gridcolor": "white",
            "linecolor": "white",
            "ticks": ""
           }
          },
          "title": {
           "x": 0.05
          },
          "xaxis": {
           "automargin": true,
           "gridcolor": "white",
           "linecolor": "white",
           "ticks": "",
           "title": {
            "standoff": 15
           },
           "zerolinecolor": "white",
           "zerolinewidth": 2
          },
          "yaxis": {
           "automargin": true,
           "gridcolor": "white",
           "linecolor": "white",
           "ticks": "",
           "title": {
            "standoff": 15
           },
           "zerolinecolor": "white",
           "zerolinewidth": 2
          }
         }
        },
        "title": {
         "font": {
          "family": "Times New Roman"
         },
         "text": "Model Scores of Predicting an E-Cigarette User Based on Promotions Seen"
        },
        "xaxis": {
         "tickangle": -45
        }
       }
      }
     },
     "metadata": {},
     "output_type": "display_data"
    }
   ],
   "source": [
    "import plotly.graph_objects as go\n",
    "\n",
    "models = ['Logistic Regression', 'KNN', 'SVM', 'Descision Tree', 'Random Forest', 'Gaussian NB']\n",
    "\n",
    "y_train = [\"100%\", \"95.79%\", \"99.99%\",\"100%\",\"100%\",\"100%\"]\n",
    "y_test = [\"100%\", \"95.97%\",\"99.98%\", \"100%\",\"100%\",\"18.96%\"]\n",
    "\n",
    "fig = go.Figure()\n",
    "\n",
    "fig.add_trace(go.Bar(\n",
    "    x=models, \n",
    "    y=df_result_train.Score,\n",
    "    textposition='auto',\n",
    "    text=y_train,\n",
    "    name='Train Score',\n",
    "    marker_color='sienna'\n",
    "    ))\n",
    "\n",
    "fig.add_trace(go.Bar(\n",
    "    x=models,\n",
    "    y=df_result_test.Score,\n",
    "    text = y_test,\n",
    "    textposition='auto',\n",
    "    name='Test Score',\n",
    "    marker_color='lightyellow'\n",
    "))\n",
    "\n",
    "fig.update_layout(barmode='group', xaxis_tickangle=-45,\n",
    "                  font_family=\"Times New Roman\",\n",
    "                  title_font_family=\"Times New Roman\",\n",
    "                  legend_title_font_color=\"green\",\n",
    "                  title=dict(text=\"Model Scores of Predicting an E-Cigarette User Based on Promotions Seen\"))\n",
    "\n",
    "fig.show()"
   ]
  }
 ],
 "metadata": {
  "kernelspec": {
   "display_name": "base",
   "language": "python",
   "name": "python3"
  },
  "language_info": {
   "codemirror_mode": {
    "name": "ipython",
    "version": 3
   },
   "file_extension": ".py",
   "mimetype": "text/x-python",
   "name": "python",
   "nbconvert_exporter": "python",
   "pygments_lexer": "ipython3",
   "version": "3.10.9"
  }
 },
 "nbformat": 4,
 "nbformat_minor": 2
}
