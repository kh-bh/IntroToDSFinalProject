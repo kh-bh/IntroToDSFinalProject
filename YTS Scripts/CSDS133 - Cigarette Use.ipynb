{
 "cells": [
  {
   "cell_type": "code",
   "execution_count": 35,
   "metadata": {},
   "outputs": [],
   "source": [
    "import matplotlib.pyplot as plt\n",
    "import numpy as np\n",
    "import pandas as pd\n",
    "import plotly.express as px"
   ]
  },
  {
   "cell_type": "code",
   "execution_count": 40,
   "metadata": {},
   "outputs": [],
   "source": [
    "YTSHighdf = pd.read_csv(\"../YTS Scripts/YTS Data/YTSCessationData.csv\") \n"
   ]
  },
  {
   "cell_type": "code",
   "execution_count": 1,
   "metadata": {},
   "outputs": [
    {
     "ename": "NameError",
     "evalue": "name 'YTSCigaretteUsedf' is not defined",
     "output_type": "error",
     "traceback": [
      "\u001b[0;31m---------------------------------------------------------------------------\u001b[0m",
      "\u001b[0;31mNameError\u001b[0m                                 Traceback (most recent call last)",
      "Cell \u001b[0;32mIn[1], line 5\u001b[0m\n\u001b[1;32m      2\u001b[0m years \u001b[38;5;241m=\u001b[39m []\n\u001b[1;32m      3\u001b[0m cigarette_use_state \u001b[38;5;241m=\u001b[39m []\n\u001b[0;32m----> 5\u001b[0m years \u001b[38;5;241m=\u001b[39m YTSCigaretteUsedf[\u001b[38;5;124m'\u001b[39m\u001b[38;5;124mYear\u001b[39m\u001b[38;5;124m'\u001b[39m]\u001b[38;5;241m.\u001b[39munique()\n\u001b[1;32m      6\u001b[0m cigarette_use_state \u001b[38;5;241m=\u001b[39m YTSCigaretteUsedf\u001b[38;5;241m.\u001b[39mgroupby(\u001b[38;5;124m'\u001b[39m\u001b[38;5;124mYear\u001b[39m\u001b[38;5;124m'\u001b[39m)[\u001b[38;5;124m'\u001b[39m\u001b[38;5;124mDataValue\u001b[39m\u001b[38;5;124m'\u001b[39m]\u001b[38;5;241m.\u001b[39mmean()\n\u001b[1;32m      8\u001b[0m plt\u001b[38;5;241m.\u001b[39mfigure(figsize\u001b[38;5;241m=\u001b[39m(\u001b[38;5;241m10\u001b[39m, \u001b[38;5;241m6\u001b[39m))\n",
      "\u001b[0;31mNameError\u001b[0m: name 'YTSCigaretteUsedf' is not defined"
     ]
    }
   ],
   "source": [
    "#creating graph for Cigarette Use by year Monish\n",
    "years = []\n",
    "cigarette_use_state = []\n",
    "\n",
    "years = YTSCigaretteUsedf['Year'].unique()\n",
    "cigarette_use_state = YTSCigaretteUsedf.groupby('Year')['DataValue'].mean()\n",
    "\n",
    "plt.figure(figsize=(10, 6))\n",
    "plt.plot(years, cigarette_use_state, marker='o')\n",
    "plt.xlabel('Year')\n",
    "plt.ylabel('Cigarette Use')\n",
    "plt.title('Cigarette Use by Year')\n",
    "plt.grid(True)\n",
    "plt.xticks(years)\n",
    "plt.xticks(rotation=45)\n",
    "plt.tight_layout()\n",
    "plt.show()"
   ]
  },
  {
   "cell_type": "code",
   "execution_count": null,
   "metadata": {},
   "outputs": [],
   "source": [
    "#creating graph for Cigarette Use by state Monish\n",
    "\n",
    "states = []\n",
    "\n",
    "\n",
    "states = YTSCigaretteUsedf.groupby('LocationAbbr')"
   ]
  }
 ],
 "metadata": {
  "kernelspec": {
   "display_name": "base",
   "language": "python",
   "name": "python3"
  },
  "language_info": {
   "codemirror_mode": {
    "name": "ipython",
    "version": 3
   },
   "file_extension": ".py",
   "mimetype": "text/x-python",
   "name": "python",
   "nbconvert_exporter": "python",
   "pygments_lexer": "ipython3",
   "version": "3.11.5"
  }
 },
 "nbformat": 4,
 "nbformat_minor": 2
}
