{
 "cells": [
  {
   "cell_type": "code",
   "execution_count": 1,
   "metadata": {},
   "outputs": [],
   "source": [
    "import matplotlib.pyplot as plt\n",
    "import numpy as np\n",
    "import pandas as pd"
   ]
  },
  {
   "cell_type": "code",
   "execution_count": 5,
   "metadata": {},
   "outputs": [],
   "source": [
    "YTSHighdf = pd.read_csv(\"YTSCessationData.csv\")\n",
    "YTSMiddledf = pd.read_csv(\"YTSMiddleData.csv\")\n",
    "YTSSmokelessTobaccodf = pd.read_csv(\"YTSSmokelessTobaccoData.csv\")\n",
    "YTSCigaretteUsedf = pd.read_csv(\"YTSCigaretteUseData.csv\")\n",
    "YTSCessationdf = pd.read_csv(\"YTSCessationData.csv\")"
   ]
  },
  {
   "cell_type": "code",
   "execution_count": null,
   "metadata": {},
   "outputs": [],
   "source": []
  }
 ],
 "metadata": {
  "kernelspec": {
   "display_name": "base",
   "language": "python",
   "name": "python3"
  },
  "language_info": {
   "codemirror_mode": {
    "name": "ipython",
    "version": 3
   },
   "file_extension": ".py",
   "mimetype": "text/x-python",
   "name": "python",
   "nbconvert_exporter": "python",
   "pygments_lexer": "ipython3",
   "version": "3.11.5"
  }
 },
 "nbformat": 4,
 "nbformat_minor": 2
}
