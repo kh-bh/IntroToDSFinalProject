{
 "cells": [
  {
   "cell_type": "code",
   "execution_count": 10,
   "metadata": {},
   "outputs": [],
   "source": [
    "import matplotlib.pyplot as plt\n",
    "import numpy as np\n",
    "import pandas as pd\n",
    "import plotly.express as px\n",
    "import seaborn as sns\n",
    "import plotly.graph_objects as go\n",
    "import operator as op"
   ]
  },
  {
   "cell_type": "code",
   "execution_count": 11,
   "metadata": {},
   "outputs": [
    {
     "name": "stderr",
     "output_type": "stream",
     "text": [
      "C:\\Users\\ishik_o\\AppData\\Local\\Temp\\ipykernel_1896\\2215099413.py:1: DtypeWarning: Columns (17) have mixed types. Specify dtype option on import or set low_memory=False.\n",
      "  df = pd.read_csv(\"EDITEDNYTS16_22.csv\")\n"
     ]
    }
   ],
   "source": [
    "df = pd.read_csv(\"EDITEDNYTS16_22.csv\")\n",
    "\n",
    "df.loc[df['E_Cig_Ever_Used'] == 'No', 'E_Cig_Days_Used'] = 100\n",
    "df.loc[df['E_Cig_Ever_Used'] == 'No', 'E_Cig_Last_Used'] = 100\n",
    "df.loc[df['E_Cig_Ever_Used'] == 'No', 'Attempt_Quitting_Tobacco'] = 96\n",
    "\n",
    "df.loc[df['E_Cig_Try'] == 'Yes', 'E_Cig_Try_Next_Year'] = 99\n",
    "df.loc[df['E_Cig_Try'] == 'Yes', 'E_Cig_Curiousity'] = 99\n",
    "\n",
    "df.loc[df['Cigarette_Ever_Used'] == 'No', 'Cigarette_Days_Used'] = 98\n",
    "df.loc[df['Cigarette_Ever_Used'] == 'No', 'Cigarette_Last_Used'] = 98\n",
    "df.loc[df['Cigarette_Ever_Used'] == 'No', 'Attempt_Quitting_Tobacco'] = 95\n",
    "\n",
    "\n",
    "df.loc[df['Cigarette_Try'] == 'Yes', 'Cig_Try_Next_Year'] = 97\n",
    "df.loc[df['Cigarette_Try'] == 'Yes', 'Cig_Curiousity'] = 97"
   ]
  },
  {
   "cell_type": "code",
   "execution_count": 12,
   "metadata": {},
   "outputs": [],
   "source": [
    "df.to_csv('NYTS16_22_NaN', index=False)"
   ]
  }
 ],
 "metadata": {
  "kernelspec": {
   "display_name": "Python 3",
   "language": "python",
   "name": "python3"
  },
  "language_info": {
   "codemirror_mode": {
    "name": "ipython",
    "version": 3
   },
   "file_extension": ".py",
   "mimetype": "text/x-python",
   "name": "python",
   "nbconvert_exporter": "python",
   "pygments_lexer": "ipython3",
   "version": "3.11.7"
  }
 },
 "nbformat": 4,
 "nbformat_minor": 2
}
