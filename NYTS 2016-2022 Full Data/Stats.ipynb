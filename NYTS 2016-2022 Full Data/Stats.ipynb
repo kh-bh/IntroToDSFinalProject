{
 "cells": [
  {
   "cell_type": "code",
   "execution_count": 60,
   "metadata": {},
   "outputs": [],
   "source": [
    "import numpy as np\n",
    "import pandas as pd\n",
    "from scipy import stats\n",
    "import random"
   ]
  },
  {
   "cell_type": "code",
   "execution_count": 61,
   "metadata": {},
   "outputs": [],
   "source": [
    "NYTSdf = pd.read_csv(\"EDITEDNYTS16_22_Numbers.csv\")\n"
   ]
  },
  {
   "cell_type": "code",
   "execution_count": 64,
   "metadata": {},
   "outputs": [
    {
     "name": "stdout",
     "output_type": "stream",
     "text": [
      "Spearman correlation coefficient: -0.016931526625315264\n",
      "p-value: 0.09044359832951576\n",
      "Fail to reject the null hypothesis: There is no significant correlation between the number of cigarette smokers and the number of e-cigarette smokers.\n"
     ]
    }
   ],
   "source": [
    "# Chi Square Test for association between Cigarette and E Cigarette users\n",
    "# Significance level\n",
    "alpha = 0.05\n",
    "\n",
    "# Filter data for smokers and e-cigarette users\n",
    "Smoke_cigs = NYTSdf[NYTSdf['Cigarette_Ever_Used'] == 1.0]['Cigarette_Ever_Used']\n",
    "Smoke_ecigs = NYTSdf[NYTSdf['E_Cig_Ever_Used'] == 1.0]['E_Cig_Ever_Used']\n",
    "\n",
    "# Define sample size\n",
    "sample_size = 10000\n",
    "\n",
    "# Take random sample of indexes\n",
    "Randomcigs = random.sample(list(Smoke_cigs.index), sample_size)\n",
    "Randomecigs = random.sample(list(Smoke_ecigs.index), sample_size)\n",
    "\n",
    "# Spearman correlation coefficient \n",
    "corr, p_value = stats.spearmanr(Randomcigs, Randomecigs)\n",
    "\n",
    "# Output results\n",
    "print(\"Spearman correlation coefficient:\", corr)\n",
    "print(\"p-value:\", p_value)\n",
    "\n",
    "# Interpret results\n",
    "if p_value < alpha:\n",
    "    print(\"Reject the null hypothesis: There is a significant correlation between the number of cigarette smokers and the number of e-cigarette smokers.\")\n",
    "else:\n",
    "    print(\"Fail to reject the null hypothesis: There is no significant correlation between the number of cigarette smokers and the number of e-cigarette smokers.\")\n"
   ]
  }
 ],
 "metadata": {
  "kernelspec": {
   "display_name": "base",
   "language": "python",
   "name": "python3"
  },
  "language_info": {
   "codemirror_mode": {
    "name": "ipython",
    "version": 3
   },
   "file_extension": ".py",
   "mimetype": "text/x-python",
   "name": "python",
   "nbconvert_exporter": "python",
   "pygments_lexer": "ipython3",
   "version": "3.11.7"
  }
 },
 "nbformat": 4,
 "nbformat_minor": 2
}
