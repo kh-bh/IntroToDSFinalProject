{
 "cells": [
  {
   "cell_type": "code",
   "execution_count": 1,
   "metadata": {},
   "outputs": [],
   "source": [
    "import pandas as pd\n",
    "import numpy as np"
   ]
  },
  {
   "cell_type": "code",
   "execution_count": 2,
   "metadata": {},
   "outputs": [],
   "source": [
    "NYTS2022 = pd.read_csv(\"../NYTS 2022/NYTS 2022 Data/NYTSData2022.csv\")\n",
    "NYTS2021 = pd.read_csv(\"../NYTS 2021/NYTS 2021 Data/NYTSData2021.csv\")\n",
    "NYTS2020 = pd.read_csv(\"../NTYS 2020/NYTSData2020.csv\")\n",
    "NYTS2019 = pd.read_csv(\"../NYTS 2019/NYTSData2019.csv\")"
   ]
  },
  {
   "cell_type": "code",
   "execution_count": 3,
   "metadata": {},
   "outputs": [],
   "source": [
    "frames = [NYTS2022,NYTS2021,NYTS2020,NYTS2019]\n",
    "NYTSFullData = pd.concat(frames)"
   ]
  },
  {
   "cell_type": "code",
   "execution_count": 4,
   "metadata": {},
   "outputs": [],
   "source": [
    "NYTSFullData.to_csv('NYTS16_22.csv')"
   ]
  }
 ],
 "metadata": {
  "kernelspec": {
   "display_name": "base",
   "language": "python",
   "name": "python3"
  },
  "language_info": {
   "codemirror_mode": {
    "name": "ipython",
    "version": 3
   },
   "file_extension": ".py",
   "mimetype": "text/x-python",
   "name": "python",
   "nbconvert_exporter": "python",
   "pygments_lexer": "ipython3",
   "version": "3.10.9"
  }
 },
 "nbformat": 4,
 "nbformat_minor": 2
}
