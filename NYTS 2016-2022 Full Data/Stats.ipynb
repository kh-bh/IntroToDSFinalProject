{
 "cells": [
  {
   "cell_type": "code",
   "execution_count": 18,
   "metadata": {},
   "outputs": [],
   "source": [
    "import numpy as np\n",
    "import pandas as pd\n",
    "from scipy import stats"
   ]
  },
  {
   "cell_type": "code",
   "execution_count": 19,
   "metadata": {},
   "outputs": [
    {
     "name": "stderr",
     "output_type": "stream",
     "text": [
      "C:\\Users\\ishik_o\\AppData\\Local\\Temp\\ipykernel_17376\\708578756.py:1: DtypeWarning: Columns (17) have mixed types. Specify dtype option on import or set low_memory=False.\n",
      "  NYTSdf = pd.read_csv(\"EDITEDNYTS16_22.csv\")\n"
     ]
    }
   ],
   "source": [
    "NYTSdf = pd.read_csv(\"EDITEDNYTS16_22.csv\")"
   ]
  },
  {
   "cell_type": "code",
   "execution_count": 22,
   "metadata": {},
   "outputs": [
    {
     "name": "stdout",
     "output_type": "stream",
     "text": [
      "Test Statistic: nan\n",
      "P-value: nan\n"
     ]
    }
   ],
   "source": [
    "Did_see = (NYTSdf['The_Real_Cost'] == 'Yes').sum()\n",
    "Did_not_see = (NYTSdf['The_Real_Cost'] == 'No').sum()\n",
    "\n",
    "x1 = (NYTSdf['The_Real_Cost'] == 'Yes').sum() and ((NYTSdf['Cigarette_Ever_Used'] == 'Yes').sum() + (NYTSdf['E_Cig_Ever_Used'] == 'Yes').sum() - ((NYTSdf['Cigarette_Ever_Used'] == 'Yes').sum() and (NYTSdf['E_Cig_Ever_Used'] == 'Yes').sum()))\n",
    "x2 = (NYTSdf['The_Real_Cost'] == 'No').sum() and ((NYTSdf['Cigarette_Ever_Used'] == 'Yes').sum() + (NYTSdf['E_Cig_Ever_Used'] == 'Yes').sum() - ((NYTSdf['Cigarette_Ever_Used'] == 'Yes').sum() and (NYTSdf['E_Cig_Ever_Used'] == 'Yes').sum()))\n",
    "Have_smoked = 11346\n",
    "\n",
    "p1 = Have_smoked/Did_see\n",
    "p2 = Have_smoked/Did_not_see\n",
    "\n",
    "#test statistic (difference in proportions)\n",
    "test_statistic = p1 - p2\n",
    "\n",
    "#two-sample z-test for the difference of proportions\n",
    "t_stat, t_p = stats.ttest_ind(NYTSdf[NYTSdf['The_Real_Cost'] == 'Yes']['Cigarette_Ever_Used'],\n",
    "                        NYTSdf[NYTSdf['The_Real_Cost'] == 'No']['Cigarette_Ever_Used'])\n",
    "\n",
    "# Output the test statistic and p-value\n",
    "print(\"Test Statistic:\", t_stat)\n",
    "print(\"P-value:\", t_p)"
   ]
  }
 ],
 "metadata": {
  "kernelspec": {
   "display_name": "base",
   "language": "python",
   "name": "python3"
  },
  "language_info": {
   "codemirror_mode": {
    "name": "ipython",
    "version": 3
   },
   "file_extension": ".py",
   "mimetype": "text/x-python",
   "name": "python",
   "nbconvert_exporter": "python",
   "pygments_lexer": "ipython3",
   "version": "3.11.7"
  }
 },
 "nbformat": 4,
 "nbformat_minor": 2
}
