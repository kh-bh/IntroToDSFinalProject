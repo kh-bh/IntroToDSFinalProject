{
 "cells": [
  {
   "cell_type": "code",
   "execution_count": 33,
   "metadata": {},
   "outputs": [],
   "source": [
    "import numpy as np\n",
    "import pandas as pd\n",
    "from scipy import stats"
   ]
  },
  {
   "cell_type": "code",
   "execution_count": 34,
   "metadata": {},
   "outputs": [
    {
     "name": "stderr",
     "output_type": "stream",
     "text": [
      "C:\\Users\\ishik_o\\AppData\\Local\\Temp\\ipykernel_17376\\708578756.py:1: DtypeWarning: Columns (17) have mixed types. Specify dtype option on import or set low_memory=False.\n",
      "  NYTSdf = pd.read_csv(\"EDITEDNYTS16_22.csv\")\n"
     ]
    }
   ],
   "source": [
    "NYTSdf = pd.read_csv(\"EDITEDNYTS16_22.csv\")"
   ]
  },
  {
   "cell_type": "code",
   "execution_count": 45,
   "metadata": {},
   "outputs": [
    {
     "name": "stdout",
     "output_type": "stream",
     "text": [
      "Contingency Table:\n",
      "          Didn't Smoke      Smoked\n",
      "Saw Ad    40645         16708\n",
      "No Ad     19104         5002\n",
      "\n",
      "Chi-square statistic: 609.5425174098998\n",
      "P-value: 1.4068654600081128e-134\n",
      "Null hypothesis: Those who saw the promotion were not smokers.\n",
      "\n",
      "Reject the null hypothesis. There is significant evidence to associate seeing the promotion and being a smoker.\n"
     ]
    }
   ],
   "source": [
    "import numpy as np\n",
    "from scipy.stats import chi2_contingency\n",
    "\n",
    "# Calculate the number of people who saw and didn't see the promotion\n",
    "Did_see = (NYTSdf['The_Real_Cost'] == 'Yes').sum()\n",
    "Did_not_see = (NYTSdf['The_Real_Cost'] == 'No').sum()\n",
    "\n",
    "# Calculate the number of people who have ever smoked\n",
    "Have_smoked = ((NYTSdf['Cigarette_Ever_Used'] == 'Yes') | (NYTSdf['E_Cig_Ever_Used'] == 'Yes')).sum()\n",
    "\n",
    "# Calculate the number of people who saw the promotion and didn't smoke\n",
    "x1 = ((NYTSdf['The_Real_Cost'] == 'Yes') & ((NYTSdf['Cigarette_Ever_Used'] == 'No') & (NYTSdf['E_Cig_Ever_Used'] == 'No'))).sum()\n",
    "\n",
    "# Calculate the number of people who didn't see the promotion and didn't smoke\n",
    "x2 = ((NYTSdf['The_Real_Cost'] == 'No') & ((NYTSdf['Cigarette_Ever_Used'] == 'No') & (NYTSdf['E_Cig_Ever_Used'] == 'No'))).sum()\n",
    "\n",
    "# Create a contingency table\n",
    "contingency_table = np.array([[x1, Did_see - x1], [x2, Did_not_see - x2]])\n",
    "\n",
    "# Perform chi-square test\n",
    "chi2, p_value, _, _ = chi2_contingency(contingency_table)\n",
    "\n",
    "# Print results\n",
    "print(\"Contingency Table:\")\n",
    "print(\"          Didn't Smoke      Smoked\")\n",
    "print(f\"Saw Ad    {x1}         {Did_see - x1}\")\n",
    "print(f\"No Ad     {x2}         {Did_not_see - x2}\\n\")\n",
    "\n",
    "print(\"Chi-square statistic:\", chi2)\n",
    "print(\"P-value:\", p_value)\n",
    "\n",
    "print(\"Null hypothesis: Those who saw the promotion were not smokers.\")\n",
    "# Interpret the results\n",
    "alpha = 0.05\n",
    "if p_value < alpha:\n",
    "    print(\"\\nReject the null hypothesis. There is significant evidence to associate seeing the promotion and being a smoker.\")\n",
    "else:\n",
    "    print(\"\\nFail to reject the null hypothesis. There is not enough evidence to suggest an association between seeing the promotion and being a smoker.\")\n"
   ]
  }
 ],
 "metadata": {
  "kernelspec": {
   "display_name": "base",
   "language": "python",
   "name": "python3"
  },
  "language_info": {
   "codemirror_mode": {
    "name": "ipython",
    "version": 3
   },
   "file_extension": ".py",
   "mimetype": "text/x-python",
   "name": "python",
   "nbconvert_exporter": "python",
   "pygments_lexer": "ipython3",
   "version": "3.11.7"
  }
 },
 "nbformat": 4,
 "nbformat_minor": 2
}
